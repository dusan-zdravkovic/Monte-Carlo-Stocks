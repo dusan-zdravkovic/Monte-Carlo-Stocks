{
 "cells": [
  {
   "cell_type": "markdown",
   "id": "78898e77",
   "metadata": {},
   "source": [
    "### Using TwelveData Financial API\n",
    "\n",
    "- https://twelvedata.com"
   ]
  },
  {
   "cell_type": "code",
   "execution_count": 34,
   "id": "47fb5c76",
   "metadata": {},
   "outputs": [],
   "source": [
    "# Load in API key from TwelveData\n",
    "from secrets1 import key1\n",
    "\n",
    "# Other imports\n",
    "import requests\n",
    "import time\n",
    "from datetime import datetime\n",
    "import numpy as np\n",
    "import matplotlib.pyplot as plt\n",
    "import pandas as pd"
   ]
  },
  {
   "cell_type": "code",
   "execution_count": 35,
   "id": "e847254a",
   "metadata": {},
   "outputs": [],
   "source": [
    "BASE_URL = \"https://api.twelvedata.com/time_series\"\n"
   ]
  },
  {
   "cell_type": "code",
   "execution_count": 36,
   "id": "f34d27fb",
   "metadata": {},
   "outputs": [],
   "source": [
    "# Selected 8 stock tickers\n",
    "stock_symbols = [\n",
    "    \"AAPL\",  # Apple\n",
    "    \"MSFT\",  # Microsoft\n",
    "    \"GOOGL\", # Google\n",
    "    \"TSLA\",  # Tesla\n",
    "    \"META\",  # Meta (Facebook)\n",
    "    \"AMZN\",  # Amazon\n",
    "    \"DIS\",  # Disney\n",
    "    \"PFE\",  # Pfizer\n",
    "]"
   ]
  },
  {
   "cell_type": "code",
   "execution_count": 37,
   "id": "f84acbf3",
   "metadata": {},
   "outputs": [],
   "source": [
    "# Define time range for training (simulation inputs)\n",
    "start_date = \"2020-03-01\"\n",
    "end_date = \"2021-03-01\""
   ]
  },
  {
   "cell_type": "code",
   "execution_count": 38,
   "id": "df89e2a6",
   "metadata": {},
   "outputs": [],
   "source": [
    "# Dictionary to store fetched price data\n",
    "price_data = {}"
   ]
  },
  {
   "cell_type": "code",
   "execution_count": 39,
   "id": "36f4af43",
   "metadata": {},
   "outputs": [],
   "source": [
    "# Defining function to fetch stock data\n",
    "def fetch_prices(symbol, start_date, end_date, api_key):\n",
    "    params = {\n",
    "        \"symbol\": symbol,\n",
    "        \"interval\": \"1day\",\n",
    "        \"start_date\": start_date,\n",
    "        \"end_date\": end_date,\n",
    "        \"apikey\": api_key,\n",
    "    }\n",
    "    response = requests.get(BASE_URL, params=params)\n",
    "    data = response.json() # turns into python dictionary to use\n",
    "\n",
    "    if \"values\" not in data:\n",
    "        print(\n",
    "            f\"❌ Failed to fetch data for {symbol}: {data.get('message', 'Unknown error')}\"\n",
    "        )\n",
    "        return None\n",
    "\n",
    "    df = pd.DataFrame(data[\"values\"])\n",
    "    df[\"datetime\"] = pd.to_datetime(df[\"datetime\"])\n",
    "    df[\"close\"] = pd.to_numeric(df[\"close\"])\n",
    "    df = df.sort_values(\"datetime\")\n",
    "    return df[[\"datetime\", \"close\"]]"
   ]
  },
  {
   "cell_type": "code",
   "execution_count": 40,
   "id": "a9af3e04",
   "metadata": {},
   "outputs": [
    {
     "name": "stdout",
     "output_type": "stream",
     "text": [
      "📦 Fetching data for AAPL...\n",
      "✅ AAPL data loaded: 251 rows\n",
      "📦 Fetching data for MSFT...\n",
      "✅ MSFT data loaded: 251 rows\n",
      "📦 Fetching data for GOOGL...\n",
      "✅ GOOGL data loaded: 251 rows\n",
      "📦 Fetching data for TSLA...\n",
      "✅ TSLA data loaded: 251 rows\n",
      "📦 Fetching data for META...\n",
      "✅ META data loaded: 251 rows\n",
      "📦 Fetching data for AMZN...\n",
      "✅ AMZN data loaded: 251 rows\n",
      "📦 Fetching data for DIS...\n",
      "✅ DIS data loaded: 251 rows\n",
      "📦 Fetching data for PFE...\n",
      "✅ PFE data loaded: 251 rows\n"
     ]
    }
   ],
   "source": [
    "# Fetch and store data for each stock\n",
    "for symbol in stock_symbols:\n",
    "    print(f\"📦 Fetching data for {symbol}...\")\n",
    "    df = fetch_prices(symbol, start_date, end_date, key1)\n",
    "    if df is not None:\n",
    "        price_data[symbol] = df\n",
    "        print(f\"✅ {symbol} data loaded: {len(df)} rows\")\n",
    "    else:\n",
    "        print(f\"⚠️ Skipping {symbol} due to fetch error.\")"
   ]
  },
  {
   "cell_type": "code",
   "execution_count": 42,
   "id": "ba06b237",
   "metadata": {},
   "outputs": [
    {
     "data": {
      "application/vnd.microsoft.datawrangler.viewer.v0+json": {
       "columns": [
        {
         "name": "index",
         "rawType": "int64",
         "type": "integer"
        },
        {
         "name": "datetime",
         "rawType": "datetime64[ns]",
         "type": "datetime"
        },
        {
         "name": "close",
         "rawType": "float64",
         "type": "float"
        }
       ],
       "ref": "bf1f9582-c5e7-48c1-ac33-aa1a5dae2453",
       "rows": [
        [
         "250",
         "2020-03-02 00:00:00",
         "33.092979"
        ],
        [
         "249",
         "2020-03-03 00:00:00",
         "32.54269"
        ],
        [
         "248",
         "2020-03-04 00:00:00",
         "34.5351"
        ],
        [
         "247",
         "2020-03-05 00:00:00",
         "33.64326"
        ],
        [
         "246",
         "2020-03-06 00:00:00",
         "33.22581"
        ],
        [
         "245",
         "2020-03-09 00:00:00",
         "32.030361"
        ],
        [
         "244",
         "2020-03-10 00:00:00",
         "32.81784"
        ],
        [
         "243",
         "2020-03-11 00:00:00",
         "30.52182"
        ],
        [
         "242",
         "2020-03-12 00:00:00",
         "28.48197"
        ],
        [
         "241",
         "2020-03-13 00:00:00",
         "31.034157"
        ],
        [
         "240",
         "2020-03-16 00:00:00",
         "28.63378"
        ],
        [
         "239",
         "2020-03-17 00:00:00",
         "30.51233"
        ],
        [
         "238",
         "2020-03-18 00:00:00",
         "30.70209"
        ],
        [
         "237",
         "2020-03-19 00:00:00",
         "28.86148"
        ],
        [
         "236",
         "2020-03-20 00:00:00",
         "27.52372"
        ],
        [
         "235",
         "2020-03-23 00:00:00",
         "27.030361"
        ],
        [
         "234",
         "2020-03-24 00:00:00",
         "28.17837"
        ],
        [
         "233",
         "2020-03-25 00:00:00",
         "28.22581"
        ],
        [
         "232",
         "2020-03-26 00:00:00",
         "30.12334"
        ],
        [
         "231",
         "2020-03-27 00:00:00",
         "29.31689"
        ],
        [
         "230",
         "2020-03-30 00:00:00",
         "30.9962"
        ],
        [
         "229",
         "2020-03-31 00:00:00",
         "30.96774"
        ],
        [
         "228",
         "2020-04-01 00:00:00",
         "30.12334"
        ],
        [
         "227",
         "2020-04-02 00:00:00",
         "31.18596"
        ],
        [
         "226",
         "2020-04-03 00:00:00",
         "31.91651"
        ],
        [
         "225",
         "2020-04-06 00:00:00",
         "32.79886"
        ],
        [
         "224",
         "2020-04-07 00:00:00",
         "31.88805"
        ],
        [
         "223",
         "2020-04-08 00:00:00",
         "32.82732"
        ],
        [
         "222",
         "2020-04-09 00:00:00",
         "33.57685"
        ],
        [
         "221",
         "2020-04-13 00:00:00",
         "33.33966"
        ],
        [
         "220",
         "2020-04-14 00:00:00",
         "34.57306"
        ],
        [
         "219",
         "2020-04-15 00:00:00",
         "34.12714"
        ],
        [
         "218",
         "2020-04-16 00:00:00",
         "34.041744"
        ],
        [
         "217",
         "2020-04-17 00:00:00",
         "35.018974"
        ],
        [
         "216",
         "2020-04-20 00:00:00",
         "34.2315"
        ],
        [
         "215",
         "2020-04-21 00:00:00",
         "33.79507"
        ],
        [
         "214",
         "2020-04-22 00:00:00",
         "34.39279"
        ],
        [
         "213",
         "2020-04-23 00:00:00",
         "34.81025"
        ],
        [
         "212",
         "2020-04-24 00:00:00",
         "35.4649"
        ],
        [
         "211",
         "2020-04-27 00:00:00",
         "36.36622"
        ],
        [
         "210",
         "2020-04-28 00:00:00",
         "35.96774"
        ],
        [
         "209",
         "2020-04-29 00:00:00",
         "36.16698"
        ],
        [
         "208",
         "2020-04-30 00:00:00",
         "36.39469"
        ],
        [
         "207",
         "2020-05-01 00:00:00",
         "35.71157"
        ],
        [
         "206",
         "2020-05-04 00:00:00",
         "35.6926"
        ],
        [
         "205",
         "2020-05-05 00:00:00",
         "36.537"
        ],
        [
         "204",
         "2020-05-06 00:00:00",
         "36.537"
        ],
        [
         "203",
         "2020-05-07 00:00:00",
         "35.066414"
        ],
        [
         "202",
         "2020-05-08 00:00:00",
         "35.31309"
        ],
        [
         "201",
         "2020-05-11 00:00:00",
         "36.14801"
        ]
       ],
       "shape": {
        "columns": 2,
        "rows": 251
       }
      },
      "text/html": [
       "<div>\n",
       "<style scoped>\n",
       "    .dataframe tbody tr th:only-of-type {\n",
       "        vertical-align: middle;\n",
       "    }\n",
       "\n",
       "    .dataframe tbody tr th {\n",
       "        vertical-align: top;\n",
       "    }\n",
       "\n",
       "    .dataframe thead th {\n",
       "        text-align: right;\n",
       "    }\n",
       "</style>\n",
       "<table border=\"1\" class=\"dataframe\">\n",
       "  <thead>\n",
       "    <tr style=\"text-align: right;\">\n",
       "      <th></th>\n",
       "      <th>datetime</th>\n",
       "      <th>close</th>\n",
       "    </tr>\n",
       "  </thead>\n",
       "  <tbody>\n",
       "    <tr>\n",
       "      <th>250</th>\n",
       "      <td>2020-03-02</td>\n",
       "      <td>33.092979</td>\n",
       "    </tr>\n",
       "    <tr>\n",
       "      <th>249</th>\n",
       "      <td>2020-03-03</td>\n",
       "      <td>32.542690</td>\n",
       "    </tr>\n",
       "    <tr>\n",
       "      <th>248</th>\n",
       "      <td>2020-03-04</td>\n",
       "      <td>34.535100</td>\n",
       "    </tr>\n",
       "    <tr>\n",
       "      <th>247</th>\n",
       "      <td>2020-03-05</td>\n",
       "      <td>33.643260</td>\n",
       "    </tr>\n",
       "    <tr>\n",
       "      <th>246</th>\n",
       "      <td>2020-03-06</td>\n",
       "      <td>33.225810</td>\n",
       "    </tr>\n",
       "    <tr>\n",
       "      <th>...</th>\n",
       "      <td>...</td>\n",
       "      <td>...</td>\n",
       "    </tr>\n",
       "    <tr>\n",
       "      <th>4</th>\n",
       "      <td>2021-02-22</td>\n",
       "      <td>34.260000</td>\n",
       "    </tr>\n",
       "    <tr>\n",
       "      <th>3</th>\n",
       "      <td>2021-02-23</td>\n",
       "      <td>33.910000</td>\n",
       "    </tr>\n",
       "    <tr>\n",
       "      <th>2</th>\n",
       "      <td>2021-02-24</td>\n",
       "      <td>33.750000</td>\n",
       "    </tr>\n",
       "    <tr>\n",
       "      <th>1</th>\n",
       "      <td>2021-02-25</td>\n",
       "      <td>33.820000</td>\n",
       "    </tr>\n",
       "    <tr>\n",
       "      <th>0</th>\n",
       "      <td>2021-02-26</td>\n",
       "      <td>33.490000</td>\n",
       "    </tr>\n",
       "  </tbody>\n",
       "</table>\n",
       "<p>251 rows × 2 columns</p>\n",
       "</div>"
      ],
      "text/plain": [
       "      datetime      close\n",
       "250 2020-03-02  33.092979\n",
       "249 2020-03-03  32.542690\n",
       "248 2020-03-04  34.535100\n",
       "247 2020-03-05  33.643260\n",
       "246 2020-03-06  33.225810\n",
       "..         ...        ...\n",
       "4   2021-02-22  34.260000\n",
       "3   2021-02-23  33.910000\n",
       "2   2021-02-24  33.750000\n",
       "1   2021-02-25  33.820000\n",
       "0   2021-02-26  33.490000\n",
       "\n",
       "[251 rows x 2 columns]"
      ]
     },
     "execution_count": 42,
     "metadata": {},
     "output_type": "execute_result"
    }
   ],
   "source": [
    "df"
   ]
  },
  {
   "cell_type": "code",
   "execution_count": null,
   "id": "ce581ce2",
   "metadata": {},
   "outputs": [
    {
     "data": {
      "text/plain": [
       "dict"
      ]
     },
     "execution_count": 45,
     "metadata": {},
     "output_type": "execute_result"
    }
   ],
   "source": [
    "type(price_data)              # should be a dict\n"
   ]
  },
  {
   "cell_type": "code",
   "execution_count": null,
   "id": "de300976",
   "metadata": {},
   "outputs": [
    {
     "data": {
      "text/plain": [
       "dict_keys(['AAPL', 'MSFT', 'GOOGL', 'TSLA', 'META', 'AMZN', 'DIS', 'PFE'])"
      ]
     },
     "execution_count": 46,
     "metadata": {},
     "output_type": "execute_result"
    }
   ],
   "source": [
    "price_data.keys()            # shows stock symbols loaded"
   ]
  },
  {
   "cell_type": "code",
   "execution_count": null,
   "id": "9886dc66",
   "metadata": {},
   "outputs": [],
   "source": [
    "# Pick one stock to inspect\n",
    "df = price_data[\"MSFT\"]      # or \"AAPL\", \"TSLA\", etc."
   ]
  },
  {
   "cell_type": "code",
   "execution_count": null,
   "id": "1c505a0f",
   "metadata": {},
   "outputs": [],
   "source": [
    "df.shape                     # Rows and columns"
   ]
  }
 ],
 "metadata": {
  "kernelspec": {
   "display_name": "algo-trading",
   "language": "python",
   "name": "python3"
  },
  "language_info": {
   "codemirror_mode": {
    "name": "ipython",
    "version": 3
   },
   "file_extension": ".py",
   "mimetype": "text/x-python",
   "name": "python",
   "nbconvert_exporter": "python",
   "pygments_lexer": "ipython3",
   "version": "3.9.20"
  }
 },
 "nbformat": 4,
 "nbformat_minor": 5
}
