{
 "cells": [
  {
   "cell_type": "code",
   "execution_count": 2,
   "id": "47fb5c76",
   "metadata": {},
   "outputs": [],
   "source": [
    "# Load in API key from TwelveData\n",
    "from secrets1 import key1\n",
    "\n",
    "# Other imports\n",
    "import requests\n",
    "import time\n",
    "from datetime import datetime\n",
    "import numpy as np\n",
    "import matplotlib.pyplot as plt\n",
    "import pandas as pd"
   ]
  },
  {
   "cell_type": "code",
   "execution_count": 3,
   "id": "e847254a",
   "metadata": {},
   "outputs": [],
   "source": [
    "BASE_URL = \"https://api.twelvedata.com/time_series\"\n"
   ]
  },
  {
   "cell_type": "code",
   "execution_count": 5,
   "id": "f34d27fb",
   "metadata": {},
   "outputs": [],
   "source": [
    "# Selected 8 stock tickers\n",
    "stock_symbols = [\n",
    "    \"AAPL\",  # Apple\n",
    "    \"MSFT\",  # Microsoft\n",
    "    \"GOOGL\", # Google\n",
    "    \"TSLA\",  # Tesla\n",
    "    \"META\",  # Meta (Facebook)\n",
    "    \"AMZN\",  # Amazon\n",
    "    \"DIS\",  # Disney\n",
    "    \"PFE\",  # Pfizer\n",
    "]"
   ]
  },
  {
   "cell_type": "code",
   "execution_count": 6,
   "id": "f84acbf3",
   "metadata": {},
   "outputs": [],
   "source": [
    "# Define time range for training (simulation inputs)\n",
    "start_date = \"2020-03-01\"\n",
    "end_date = \"2021-03-01\""
   ]
  },
  {
   "cell_type": "code",
   "execution_count": 7,
   "id": "df89e2a6",
   "metadata": {},
   "outputs": [],
   "source": [
    "# Dictionary to store fetched price data\n",
    "price_data = {}"
   ]
  },
  {
   "cell_type": "code",
   "execution_count": null,
   "id": "36f4af43",
   "metadata": {},
   "outputs": [],
   "source": []
  }
 ],
 "metadata": {
  "kernelspec": {
   "display_name": "algo-trading",
   "language": "python",
   "name": "python3"
  },
  "language_info": {
   "codemirror_mode": {
    "name": "ipython",
    "version": 3
   },
   "file_extension": ".py",
   "mimetype": "text/x-python",
   "name": "python",
   "nbconvert_exporter": "python",
   "pygments_lexer": "ipython3",
   "version": "3.9.20"
  }
 },
 "nbformat": 4,
 "nbformat_minor": 5
}
